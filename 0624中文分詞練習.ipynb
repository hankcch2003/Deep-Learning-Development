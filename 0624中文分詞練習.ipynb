{
 "cells": [
  {
   "cell_type": "code",
   "execution_count": 1,
   "id": "4dec31bb-45b1-4755-b65b-834b2ff8bfc6",
   "metadata": {},
   "outputs": [
    {
     "name": "stderr",
     "output_type": "stream",
     "text": [
      "Building prefix dict from the default dictionary ...\n",
      "Loading model from cache C:\\Users\\hankc\\AppData\\Local\\Temp\\jieba.cache\n"
     ]
    },
    {
     "name": "stdout",
     "output_type": "stream",
     "text": [
      "<generator object Tokenizer.cut at 0x0000023AE24F9BC0>\n"
     ]
    },
    {
     "name": "stderr",
     "output_type": "stream",
     "text": [
      "Loading model cost 1.362 seconds.\n",
      "Prefix dict has been built successfully.\n"
     ]
    },
    {
     "name": "stdout",
     "output_type": "stream",
     "text": [
      "我/要/成/為/神奇/寶/貝/大/師\n",
      "我要/成為/神奇/寶貝大師\n",
      "我要/成為/神奇/寶貝大師\n"
     ]
    }
   ],
   "source": [
    "import jieba\n",
    "str1='我要成為神奇寶貝大師'\n",
    "jieba1a = jieba.cut(str1, cut_all = True)\n",
    "jieba1b = jieba.cut(str1, cut_all = False)\n",
    "jieba1c = jieba.cut(str1)\n",
    "print(jieba1a)\n",
    "print('/'.join(jieba1a))\n",
    "print('/'.join(jieba1b))\n",
    "print('/'.join(jieba1c))"
   ]
  },
  {
   "cell_type": "code",
   "execution_count": 2,
   "id": "97af3d0b-93df-4acd-a3d9-049fbcb75a04",
   "metadata": {
    "scrolled": true
   },
   "outputs": [
    {
     "name": "stdout",
     "output_type": "stream",
     "text": [
      "CKIP\n",
      "WARNING:tensorflow:From c:\\Users\\hankc\\anaconda3\\Lib\\site-packages\\ckiptagger\\api.py:8: The name tf.logging.set_verbosity is deprecated. Please use tf.compat.v1.logging.set_verbosity instead.\n",
      "\n"
     ]
    },
    {
     "name": "stderr",
     "output_type": "stream",
     "text": [
      "Downloading...\n",
      "From (original): https://drive.google.com/uc?id=1efHsY16pxK0lBD2gYCgCTnv1Swstq771\n",
      "From (redirected): https://drive.google.com/uc?id=1efHsY16pxK0lBD2gYCgCTnv1Swstq771&confirm=t&uuid=707d9677-a9bf-4045-ae52-63c6a7b2ef33\n",
      "To: e:\\Colab第三階段202505\\ch8_20250624\\data.zip\n",
      "100%|██████████| 1.88G/1.88G [05:40<00:00, 5.51MB/s]\n"
     ]
    }
   ],
   "source": [
    "print('CKIP')\n",
    "from ckiptagger import WS, POS, NER\n",
    "from ckiptagger import data_utils, construct_dictionary\n",
    "data_utils.download_data_gdown('./')"
   ]
  },
  {
   "cell_type": "code",
   "execution_count": 3,
   "id": "e38707e0",
   "metadata": {},
   "outputs": [],
   "source": [
    "class WS:\n",
    "    def __init__(self, data_path):\n",
    "        self.data_path = data_path\n",
    "        self.data = self.load_data(data_path)\n",
    "    def load_data(self, data_path):\n",
    "        print(f\"Loading data from:{data_path}\")\n",
    "        return[\"dummy data\"]\n",
    "    def __call__(self, str1):\n",
    "        print(f\"Processing:{str1}\")\n",
    "        return \"Processed output\""
   ]
  },
  {
   "cell_type": "code",
   "execution_count": 4,
   "id": "eae50615-78e2-497b-a8d2-39e59de06879",
   "metadata": {},
   "outputs": [
    {
     "name": "stdout",
     "output_type": "stream",
     "text": [
      "CKIP分詞\n",
      "Loading data from:./data\n",
      "Processing:['我要成為神奇寶貝大師']\n",
      "Processed output\n"
     ]
    }
   ],
   "source": [
    "print('CKIP分詞')\n",
    "ws = WS('./data')\n",
    "from tensorflow.keras.layers import LSTMCell\n",
    "ws1 = ws([str1])\n",
    "print(ws1)"
   ]
  },
  {
   "cell_type": "code",
   "execution_count": 5,
   "id": "dc9400cb-0a1f-44a5-a998-7b665bee9658",
   "metadata": {},
   "outputs": [
    {
     "name": "stdout",
     "output_type": "stream",
     "text": [
      "我要/成為/神奇/寶貝大師\n",
      "電視/主播/傅達仁/罹患/末期/癌症\n",
      "我家/門前/有/條水溝/很/難過\n"
     ]
    }
   ],
   "source": [
    "import jieba\n",
    "str2='電視主播傅達仁罹患末期癌症'\n",
    "str3='我家門前有條水溝很難過'\n",
    "jieba1f = jieba.cut(str1)\n",
    "jieba2a = jieba.cut(str2)\n",
    "jieba3a = jieba.cut(str3)\n",
    "print('/'.join(jieba1f))\n",
    "print('/'.join(jieba2a))\n",
    "print('/'.join(jieba3a))"
   ]
  },
  {
   "cell_type": "code",
   "execution_count": 6,
   "id": "42777713-3bca-40e0-9b06-c66ab2c57784",
   "metadata": {},
   "outputs": [
    {
     "name": "stdout",
     "output_type": "stream",
     "text": [
      "因為詞彙詞性因素導致他會做這樣的切割?\n",
      "第1段\n",
      "我 r\n",
      "要 v\n",
      "成為 v\n",
      "神奇 a\n",
      "寶貝大師 nz\n",
      "第2段\n",
      "電視 n\n",
      "主播 vn\n",
      "傅達仁 nr\n",
      "罹患 v\n",
      "末期 f\n",
      "癌症 n\n",
      "第3段\n",
      "我家 r\n",
      "門前 s\n",
      "有 v\n",
      "條 q\n",
      "水溝 n\n",
      "很 d\n",
      "難 a\n",
      "過 ug\n"
     ]
    }
   ],
   "source": [
    "print('因為詞彙詞性因素導致他會做這樣的切割?')\n",
    "import jieba.posseg as pseg\n",
    "pseg1 = pseg.cut(str1)\n",
    "pseg2 = pseg.cut(str2)\n",
    "pseg3 = pseg.cut(str3)\n",
    "print('第1段')\n",
    "for word, flag in pseg1:\n",
    "    print(word, flag)\n",
    "print('第2段')\n",
    "for word, flag in pseg2:\n",
    "    print(word, flag)\n",
    "print('第3段')\n",
    "for word, flag in pseg3:\n",
    "    print(word, flag)"
   ]
  },
  {
   "cell_type": "code",
   "execution_count": 7,
   "id": "367fb8d5-7238-4730-87ac-221d8c29652a",
   "metadata": {},
   "outputs": [
    {
     "name": "stdout",
     "output_type": "stream",
     "text": [
      "伊朗 外長 阿巴斯 · 阿拉 格奇 （ Abbas   Araghchi ） 在 一份 聲明 中 表示 ， 「 只要 以色列 政權 在 德 黑蘭 時間 凌晨 4 點前 ， 停止 對 伊朗 人民 的 非法 侵略 ， 我們 就 無意 繼續採 取回 應行動 。 」\n"
     ]
    }
   ],
   "source": [
    "str4='伊朗外長阿巴斯·阿拉格奇（Abbas Araghchi）在一份聲明中表示，「只要以色列政權在德黑蘭時間凌晨4點前，停止對伊朗人民的非法侵略，我們就無意繼續採取回應行動。」'\n",
    "jieba4a = jieba.cut(str4)\n",
    "print(' '.join(jieba4a))"
   ]
  },
  {
   "cell_type": "code",
   "execution_count": 8,
   "id": "1103f3f5-1a10-4df7-9cd1-16d7636c798d",
   "metadata": {},
   "outputs": [
    {
     "name": "stdout",
     "output_type": "stream",
     "text": [
      "自訂詞彙有兩種，一種是一個一個加入\n",
      "伊朗 外長 阿巴斯 · 阿拉格奇 （ Abbas   Araghchi ） 在 一份 聲明 中 表示 ， 「 只要 以色列 政權 在 德黑蘭 時間 凌晨 4 點前 ， 停止 對 伊朗 人民 的 非法 侵略 ， 我們 就 無意 繼續 採取 回應 行動 。 」\n"
     ]
    }
   ],
   "source": [
    "print('自訂詞彙有兩種，一種是一個一個加入')\n",
    "jieba.add_word('阿拉格奇')\n",
    "jieba.add_word('德黑蘭')\n",
    "jieba.add_word('繼續')\n",
    "jieba.add_word('採取')\n",
    "jieba.add_word('回應')\n",
    "jieba4a = jieba.cut(str4)\n",
    "print(' '.join(jieba4a))"
   ]
  },
  {
   "cell_type": "code",
   "execution_count": 9,
   "id": "a17723e2-d658-4d70-9076-ddc4de948e16",
   "metadata": {},
   "outputs": [
    {
     "name": "stdout",
     "output_type": "stream",
     "text": [
      "自訂詞彙有兩種，第二種載入文字檔\n",
      "伊朗 外長 阿巴斯 · 阿拉格奇 （ Abbas   Araghchi ） 在 一份 聲明 中 表示 ， 「 只要 以色列 政權 在 德黑蘭 時間 凌晨 4 點前 ， 停止 對 伊朗 人民 的 非法侵略 ， 我們 就 無意 繼續 採取 回應 行動 。 」\n"
     ]
    }
   ],
   "source": [
    "print('自訂詞彙有兩種，第二種載入文字檔')\n",
    "jieba.load_userdict('dict202501.txt')\n",
    "jieba4a = jieba.cut(str4)\n",
    "print(' '.join(jieba4a))"
   ]
  }
 ],
 "metadata": {
  "kernelspec": {
   "display_name": "base",
   "language": "python",
   "name": "python3"
  },
  "language_info": {
   "codemirror_mode": {
    "name": "ipython",
    "version": 3
   },
   "file_extension": ".py",
   "mimetype": "text/x-python",
   "name": "python",
   "nbconvert_exporter": "python",
   "pygments_lexer": "ipython3",
   "version": "3.12.7"
  }
 },
 "nbformat": 4,
 "nbformat_minor": 5
}
