{
 "cells": [
  {
   "cell_type": "code",
   "execution_count": 1,
   "id": "d271e649-a1d7-404e-806d-52c8f7446103",
   "metadata": {},
   "outputs": [],
   "source": [
    "import os\n",
    "from tensorflow.keras.preprocessing.image import ImageDataGenerator\n",
    "from tensorflow.keras.applications import VGG16\n",
    "from tensorflow.keras import layers, models, optimizers\n",
    "from tensorflow.keras.callbacks import ModelCheckpoint\n",
    "IMG_SIZE = (224,224)  \n",
    "BATCH_SIZE = 32\n",
    "BASE_DIR = os.path.abspath(os.path.join(os.getcwd(),'sample'))\n",
    "TRAIN_DIR = os.path.join(BASE_DIR,'train')\n",
    "VALID_DIR = os.path.join(BASE_DIR,'valid')"
   ]
  },
  {
   "cell_type": "code",
   "execution_count": 2,
   "id": "9ddee38b-69d0-4ab4-97e4-be0c6d3eb6cd",
   "metadata": {},
   "outputs": [
    {
     "name": "stdout",
     "output_type": "stream",
     "text": [
      "Found 17502 images belonging to 2 classes.\n",
      "Found 7498 images belonging to 2 classes.\n"
     ]
    }
   ],
   "source": [
    "train_datagen = ImageDataGenerator(rescale = 1./255, rotation_range = 40,\n",
    "    width_shift_range = 0.2, height_shift_range = 0.2, shear_range = 0.2,\n",
    "    zoom_range = 0.2, horizontal_flip = True, fill_mode='nearest')\n",
    "train_generator = train_datagen.flow_from_directory(TRAIN_DIR, target_size = IMG_SIZE,\n",
    "    batch_size = BATCH_SIZE, class_mode='binary')\n",
    "valid_datagen = ImageDataGenerator(rescale = 1./255)\n",
    "valid_generator = valid_datagen.flow_from_directory(VALID_DIR, target_size = IMG_SIZE,\n",
    "    batch_size = BATCH_SIZE, class_mode='binary')"
   ]
  },
  {
   "cell_type": "code",
   "execution_count": 3,
   "id": "73cebd4c-f56f-4b18-960a-3520b0c447e3",
   "metadata": {},
   "outputs": [],
   "source": [
    "base_model = VGG16(weights='imagenet', include_top = False, input_shape = (224,224,3))\n",
    "base_model.trainable = False\n",
    "model = models.Sequential([base_model, layers.Flatten(), layers.Dense(256, activation='relu'),\n",
    "    layers.Dropout(0.5), layers.Dense(1, activation='sigmoid')])\n",
    "model.compile(loss='binary_crossentropy', optimizer = optimizers.Adam(learning_rate = 1e-4),\n",
    "    metrics = ['accuracy'])"
   ]
  },
  {
   "cell_type": "code",
   "execution_count": null,
   "id": "727a9284-4324-4f6b-a1b9-0b211f0d01aa",
   "metadata": {},
   "outputs": [
    {
     "name": "stderr",
     "output_type": "stream",
     "text": [
      "c:\\Users\\hankc\\anaconda3\\Lib\\site-packages\\keras\\src\\trainers\\data_adapters\\py_dataset_adapter.py:121: UserWarning: Your `PyDataset` class should call `super().__init__(**kwargs)` in its constructor. `**kwargs` can include `workers`, `use_multiprocessing`, `max_queue_size`. Do not pass these arguments to `fit()`, as they will be ignored.\n",
      "  self._warn_if_super_not_called()\n"
     ]
    },
    {
     "name": "stdout",
     "output_type": "stream",
     "text": [
      "Epoch 1/10\n",
      "\u001b[1m  547/17502\u001b[0m \u001b[37m━━━━━━━━━━━━━━━━━━━━\u001b[0m \u001b[1m23:35:46\u001b[0m 5s/step - accuracy: 0.7727 - loss: 0.4676"
     ]
    },
    {
     "name": "stderr",
     "output_type": "stream",
     "text": [
      "c:\\Users\\hankc\\anaconda3\\Lib\\site-packages\\keras\\src\\trainers\\epoch_iterator.py:107: UserWarning: Your input ran out of data; interrupting training. Make sure that your dataset or generator can generate at least `steps_per_epoch * epochs` batches. You may need to use the `.repeat()` function when building your dataset.\n",
      "  self._interrupted_warning()\n"
     ]
    }
   ],
   "source": [
    "from tensorflow.keras.callbacks import ModelCheckpoint\n",
    "checkpoint = ModelCheckpoint('best_model.h5', monitor='val_accuracy', save_best_only = True,         \n",
    "    save_weights_only = False, mode='max', verbose = 1)\n",
    "history = model.fit(train_generator, steps_per_epoch = train_generator.samples, epochs = 10,\n",
    "    validation_data = valid_generator, validation_steps = valid_generator.samples,\n",
    "    callbacks = [checkpoint])"
   ]
  }
 ],
 "metadata": {
  "kernelspec": {
   "display_name": "base",
   "language": "python",
   "name": "python3"
  },
  "language_info": {
   "codemirror_mode": {
    "name": "ipython",
    "version": 3
   },
   "file_extension": ".py",
   "mimetype": "text/x-python",
   "name": "python",
   "nbconvert_exporter": "python",
   "pygments_lexer": "ipython3",
   "version": "3.12.7"
  }
 },
 "nbformat": 4,
 "nbformat_minor": 5
}
