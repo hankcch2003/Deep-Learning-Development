{
 "cells": [
  {
   "cell_type": "code",
   "execution_count": 1,
   "id": "d271e649-a1d7-404e-806d-52c8f7446103",
   "metadata": {},
   "outputs": [],
   "source": [
    "import os\n",
    "from tensorflow.keras.preprocessing.image import ImageDataGenerator\n",
    "from tensorflow.keras.applications import VGG16\n",
    "from tensorflow.keras import layers, models, optimizers\n",
    "from tensorflow.keras.callbacks import ModelCheckpoint\n",
    "IMG_SIZE = (224,224)  \n",
    "BATCH_SIZE = 32\n",
    "BASE_DIR = os.path.abspath(os.path.join(os.getcwd(),'sample'))\n",
    "TRAIN_DIR = os.path.join(BASE_DIR,'train')\n",
    "VALID_DIR = os.path.join(BASE_DIR,'valid')"
   ]
  },
  {
   "cell_type": "code",
   "execution_count": 2,
   "id": "9ddee38b-69d0-4ab4-97e4-be0c6d3eb6cd",
   "metadata": {},
   "outputs": [
    {
     "name": "stdout",
     "output_type": "stream",
     "text": [
      "Found 17502 images belonging to 2 classes.\n",
      "Found 7498 images belonging to 2 classes.\n"
     ]
    }
   ],
   "source": [
    "train_datagen = ImageDataGenerator(rescale = 1./255, rotation_range = 40,\n",
    "    width_shift_range = 0.2, height_shift_range = 0.2, shear_range = 0.2,\n",
    "    zoom_range = 0.2, horizontal_flip = True, fill_mode='nearest')\n",
    "train_generator = train_datagen.flow_from_directory(TRAIN_DIR, target_size = IMG_SIZE,\n",
    "    batch_size = BATCH_SIZE, class_mode='binary')\n",
    "valid_datagen = ImageDataGenerator(rescale = 1./255)\n",
    "valid_generator = valid_datagen.flow_from_directory(VALID_DIR, target_size = IMG_SIZE,\n",
    "    batch_size = BATCH_SIZE, class_mode='binary')"
   ]
  },
  {
   "cell_type": "code",
   "execution_count": 3,
   "id": "73cebd4c-f56f-4b18-960a-3520b0c447e3",
   "metadata": {},
   "outputs": [],
   "source": [
    "base_model = VGG16(weights='imagenet', include_top = False, input_shape = (224,224,3))\n",
    "base_model.trainable = False\n",
    "model = models.Sequential([base_model, layers.Flatten(), layers.Dense(256, activation='relu'),\n",
    "    layers.Dropout(0.5), layers.Dense(1, activation='sigmoid')])\n",
    "model.compile(loss='binary_crossentropy', optimizer = optimizers.Adam(learning_rate = 1e-4),\n",
    "    metrics = ['accuracy'])"
   ]
  },
  {
   "cell_type": "code",
   "execution_count": null,
   "id": "727a9284-4324-4f6b-a1b9-0b211f0d01aa",
   "metadata": {},
   "outputs": [
    {
     "name": "stderr",
     "output_type": "stream",
     "text": [
      "c:\\ProgramData\\anaconda3\\Lib\\site-packages\\keras\\src\\trainers\\data_adapters\\py_dataset_adapter.py:121: UserWarning: Your `PyDataset` class should call `super().__init__(**kwargs)` in its constructor. `**kwargs` can include `workers`, `use_multiprocessing`, `max_queue_size`. Do not pass these arguments to `fit()`, as they will be ignored.\n",
      "  self._warn_if_super_not_called()\n"
     ]
    },
    {
     "name": "stdout",
     "output_type": "stream",
     "text": [
      "Epoch 1/10\n",
      "\u001b[1m  547/17502\u001b[0m \u001b[37m━━━━━━━━━━━━━━━━━━━━\u001b[0m \u001b[1m18:50:54\u001b[0m 4s/step - accuracy: 0.7630 - loss: 0.4747"
     ]
    },
    {
     "name": "stderr",
     "output_type": "stream",
     "text": [
      "c:\\ProgramData\\anaconda3\\Lib\\site-packages\\keras\\src\\trainers\\epoch_iterator.py:116: UserWarning: Your input ran out of data; interrupting training. Make sure that your dataset or generator can generate at least `steps_per_epoch * epochs` batches. You may need to use the `.repeat()` function when building your dataset.\n",
      "  self._interrupted_warning()\n"
     ]
    },
    {
     "name": "stdout",
     "output_type": "stream",
     "text": [
      "\n",
      "Epoch 1: val_accuracy improved from -inf to 0.91304, saving model to best_model.h5\n"
     ]
    },
    {
     "name": "stderr",
     "output_type": "stream",
     "text": [
      "WARNING:absl:You are saving your model as an HDF5 file via `model.save()` or `keras.saving.save_model(model)`. This file format is considered legacy. We recommend using instead the native Keras format, e.g. `model.save('my_model.keras')` or `keras.saving.save_model(model, 'my_model.keras')`. \n"
     ]
    },
    {
     "name": "stdout",
     "output_type": "stream",
     "text": [
      "\u001b[1m17502/17502\u001b[0m \u001b[32m━━━━━━━━━━━━━━━━━━━━\u001b[0m\u001b[37m\u001b[0m \u001b[1m3155s\u001b[0m 180ms/step - accuracy: 0.8146 - loss: 0.3911 - val_accuracy: 0.9130 - val_loss: 0.2097\n",
      "Epoch 2/10\n",
      "\u001b[1m  547/17502\u001b[0m \u001b[37m━━━━━━━━━━━━━━━━━━━━\u001b[0m \u001b[1m19:55:39\u001b[0m 4s/step - accuracy: 0.8620 - loss: 0.3124\n",
      "Epoch 2: val_accuracy improved from 0.91304 to 0.91744, saving model to best_model.h5\n"
     ]
    },
    {
     "name": "stderr",
     "output_type": "stream",
     "text": [
      "WARNING:absl:You are saving your model as an HDF5 file via `model.save()` or `keras.saving.save_model(model)`. This file format is considered legacy. We recommend using instead the native Keras format, e.g. `model.save('my_model.keras')` or `keras.saving.save_model(model, 'my_model.keras')`. \n"
     ]
    },
    {
     "name": "stdout",
     "output_type": "stream",
     "text": [
      "\u001b[1m17502/17502\u001b[0m \u001b[32m━━━━━━━━━━━━━━━━━━━━\u001b[0m\u001b[37m\u001b[0m \u001b[1m3325s\u001b[0m 190ms/step - accuracy: 0.8671 - loss: 0.3010 - val_accuracy: 0.9174 - val_loss: 0.2020\n",
      "Epoch 3/10\n",
      "\u001b[1m  547/17502\u001b[0m \u001b[37m━━━━━━━━━━━━━━━━━━━━\u001b[0m \u001b[1m21:29:58\u001b[0m 5s/step - accuracy: 0.8764 - loss: 0.2852\n",
      "Epoch 3: val_accuracy did not improve from 0.91744\n",
      "\u001b[1m17502/17502\u001b[0m \u001b[32m━━━━━━━━━━━━━━━━━━━━\u001b[0m\u001b[37m\u001b[0m \u001b[1m3490s\u001b[0m 199ms/step - accuracy: 0.8759 - loss: 0.2838 - val_accuracy: 0.9122 - val_loss: 0.2078\n",
      "Epoch 4/10\n",
      "\u001b[1m   10/17502\u001b[0m \u001b[37m━━━━━━━━━━━━━━━━━━━━\u001b[0m \u001b[1m21:18:35\u001b[0m 4s/step - accuracy: 0.8491 - loss: 0.3123"
     ]
    }
   ],
   "source": [
    "from tensorflow.keras.callbacks import ModelCheckpoint\n",
    "checkpoint = ModelCheckpoint('best_model.h5', monitor='val_accuracy', save_best_only = True,         \n",
    "    save_weights_only = False, mode='max', verbose = 1)\n",
    "history = model.fit(train_generator, steps_per_epoch = train_generator.samples, epochs = 10,\n",
    "    validation_data = valid_generator, validation_steps = valid_generator.samples,\n",
    "    callbacks = [checkpoint])"
   ]
  }
 ],
 "metadata": {
  "kernelspec": {
   "display_name": "base",
   "language": "python",
   "name": "python3"
  },
  "language_info": {
   "codemirror_mode": {
    "name": "ipython",
    "version": 3
   },
   "file_extension": ".py",
   "mimetype": "text/x-python",
   "name": "python",
   "nbconvert_exporter": "python",
   "pygments_lexer": "ipython3",
   "version": "3.12.7"
  }
 },
 "nbformat": 4,
 "nbformat_minor": 5
}
