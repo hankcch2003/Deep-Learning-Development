{
 "cells": [
  {
   "cell_type": "code",
   "execution_count": 1,
   "metadata": {},
   "outputs": [
    {
     "data": {
      "image/png": "[encoded data removed]",
      "text/plain": [
       "<IPython.core.display.Image object>"
      ]
     },
     "execution_count": 1,
     "metadata": {
      "image/png": {
       "width": 300
      }
     },
     "output_type": "execute_result"
    }
   ],
   "source": [
    "# 從IPython.display模組匯入Image類別，用來在Jupyter Notebook中顯示圖片\n",
    "from IPython.display import Image\n",
    "\n",
    "# 載入並顯示位於當前目錄中的maze.png圖片，設定寬度為300像素\n",
    "Image('./maze.png', width = 300)"
   ]
  },
  {
   "cell_type": "markdown",
   "metadata": {},
   "source": [
    "### 遊戲玩法：起點為(1, 1)，終點為(4, 3)或(4, 2)，走到(4, 3)獎勵為1，走到(4, 2)獎勵為 -1，每走一步獎勵均為 -0.04"
   ]
  },
  {
   "cell_type": "code",
   "execution_count": 2,
   "metadata": {},
   "outputs": [],
   "source": [
    "# 匯入相關套件(numpy、random)\n",
    "import numpy as np\n",
    "import random"
   ]
  },
  {
   "cell_type": "code",
   "execution_count": 3,
   "metadata": {},
   "outputs": [],
   "source": [
    "# 定義網格世界的大小：3列 x 4行(類似棋盤的格子數)\n",
    "ROW_COUNT, COLUMN_COUNT = 3, 4                 # 3列 x 4行\n",
    "\n",
    "# 節點總數(每一個格子代表一個節點)\n",
    "NODE_COUNT = ROW_COUNT * COLUMN_COUNT          # 3 * 4 = 12個節點\n",
    "\n",
    "# 每移動一步的懲罰分數(鼓勵儘快到達終點)\n",
    "NORMAL_REWARD = -0.04                          # 每走一步扣-0.04分\n",
    "\n",
    "# 終點的正向獎勵\n",
    "WIN_REWARD = 1                                 # 成功到達終點(4, 3)得1分\n",
    "\n",
    "# 終點的負向獎勵(踩到失敗格)\n",
    "LOSS_REWARD = -1                               # 踩到陷阱(4, 2)扣1分\n",
    "\n",
    "# 得分終點的節點編號(右下角，對應格子位置為(3, 3)，節點編號為11)\n",
    "WIN_TERMINAL = NODE_COUNT - 1                  # 12 - 1 = 11\n",
    "\n",
    "# 失分終點的節點編號((3,2)，在終點左邊一格，節點編號為8)\n",
    "LOSS_TERMINAL = NODE_COUNT - 1 - COLUMN_COUNT  # 12 - 1 - 4 = 7 -> 節點7\n",
    "\n",
    "# 牆壁節點的編號(這些格子不可進入或通過)\n",
    "WALL_NODES = [5]                               # 第5號節點是牆(對應格子位置為(2,2))\n",
    "\n",
    "# 行動空間的定義：定義4個可能的移動方向\n",
    "(UP, DOWN, LEFT, RIGHT) = range(4)             # 對應數字0, 1, 2, 3"
   ]
  },
  {
   "cell_type": "code",
   "execution_count": 4,
   "metadata": {},
   "outputs": [
    {
     "data": {
      "text/plain": [
       "{0, 1, 2, 3, 4, 7}"
      ]
     },
     "execution_count": 4,
     "metadata": {},
     "output_type": "execute_result"
    }
   ],
   "source": [
    "# 建立一個名為x的串列(list)，裡面包含一些重複的整數\n",
    "x = [0, 4, 0, 1, 2, 1, 0, 4, 0, 1, 2, 1, 2, 3, 7]\n",
    "\n",
    "# 使用set()函數將串列x轉換成集合(set)，自動去除重複的元素\n",
    "set(x)"
   ]
  },
  {
   "cell_type": "code",
   "execution_count": 5,
   "metadata": {},
   "outputs": [
    {
     "data": {
      "text/plain": [
       "[7, 3, 2, 1, 2, 1, 0, 4, 0, 1, 2, 1, 0, 4, 0]"
      ]
     },
     "execution_count": 5,
     "metadata": {},
     "output_type": "execute_result"
    }
   ],
   "source": [
    "# 建立一個名為x的串列(list)，包含15個數字\n",
    "x = [0, 4, 0, 1, 2, 1, 0, 4, 0, 1, 2, 1, 2, 3, 7]\n",
    "\n",
    "# 使用reverse()方法反轉串列x的元素順序\n",
    "x.reverse()\n",
    "\n",
    "# 輸出反轉後的串列x\n",
    "x"
   ]
  },
  {
   "cell_type": "code",
   "execution_count": 6,
   "metadata": {},
   "outputs": [],
   "source": [
    "# 環境類別(模擬一個網格世界的環境)\n",
    "class Environment():\n",
    "    \n",
    "    # 初始化方法，在建立物件時呼叫\n",
    "    def __init__(self):\n",
    "        # 初始化每個節點的狀態值(State Value Function)，預設為0.0\n",
    "        self.state_value = np.full(NODE_COUNT, 0.0)\n",
    "\n",
    "        # 記錄每個節點被更新的次數，用來計算平均值\n",
    "        self.state_value_count = np.full(NODE_COUNT, 0)\n",
    "        \n",
    "    # 重置環境到初始狀態\n",
    "    def reset(self):\n",
    "        self.position = 0                  # 玩家初始位置設為節點0\n",
    "        self.trajectory = [self.position]  # 建立行動軌跡，紀錄每次經過的節點\n",
    "\n",
    "    # 取得所有可能的狀態(節點編號0到NODE_COUNT - 1)\n",
    "    def get_states(self):\n",
    "        return [i for i in range(NODE_COUNT)]\n",
    "\n",
    "    # 取得所有可能的行動(上、下、左、右)\n",
    "    def get_actions(self):  \n",
    "        return [UP, DOWN, LEFT, RIGHT]\n",
    "\n",
    "    # 檢查遊戲是否結束(是否抵達終點或陷阱)\n",
    "    def is_done(self):\n",
    "        return self.position == WIN_TERMINAL or self.position == LOSS_TERMINAL\n",
    "    \n",
    "    # 根據玩家執行的行動，更新位置\n",
    "    def update_position(self, action):\n",
    "        if action == DOWN:\n",
    "            new_position = self.position - COLUMN_COUNT  # 往下走，列數減一\n",
    "        if action == UP:\n",
    "            new_position = self.position + COLUMN_COUNT  # 往上走，列數加一\n",
    "        if action == LEFT:\n",
    "            new_position = self.position - 1             # 往左走，節點編號減一\n",
    "        if action == RIGHT:\n",
    "            new_position = self.position + 1             # 往右走，節點編號加一\n",
    "            \n",
    "        # 邊界檢查：如果超出地圖或撞到牆，就不移動\n",
    "        if new_position < 0 or new_position>= NODE_COUNT \\\n",
    "            or new_position in WALL_NODES: \n",
    "            return self.position\n",
    "\n",
    "        return new_position\n",
    "    \n",
    "    # 執行一步動作\n",
    "    def step(self, action):\n",
    "        # 如果已經結束，不能再移動\n",
    "        if self.is_done():\n",
    "            raise Exception(\"Game over\")\n",
    "        \n",
    "        # 嘗試移動位置\n",
    "        self.position = self.update_position(action)\n",
    "\n",
    "        # 將新位置加入軌跡中\n",
    "        self.trajectory.append(self.position)        \n",
    "\n",
    "        # 根據目前位置給予對應的獎勵\n",
    "        if self.position == WIN_TERMINAL:\n",
    "            reward = WIN_REWARD\n",
    "        elif self.position == LOSS_TERMINAL:\n",
    "            reward = LOSS_REWARD\n",
    "        else:    \n",
    "            reward = NORMAL_REWARD\n",
    "\n",
    "        # 回傳當前狀態與獎勵\n",
    "        return self.position, reward\n",
    "\n",
    "    # 更新每個狀態的預期價值(基於一條軌跡)\n",
    "    def update_state_value(self, final_value):\n",
    "        # 使用First-Visit Monte Carlo方法：每個節點只更新第一次出現的價值\n",
    "        # 取得這條軌跡中曾經出現過的不同節點\n",
    "        distinct_node_list = list(set(self.trajectory))\n",
    "\n",
    "        # 建立一個臨時的狀態價值陣列，對應這些節點\n",
    "        distinct_state_value = np.full(len(distinct_node_list), 0.0)\n",
    "\n",
    "        # 將軌跡倒序，從終點回推\n",
    "        reverse_trajectory = self.trajectory.copy()\n",
    "        reverse_trajectory.reverse()\n",
    "\n",
    "        # 倒推每個節點的狀態值\n",
    "        for i in reverse_trajectory:\n",
    "            final_value += NORMAL_REWARD               # 每往回一步都會扣移動成本\n",
    "            index = distinct_node_list.index(i)        # 取得節點在distinct_node_list中的索引\n",
    "            distinct_state_value[index] = final_value  # 將對應的狀態值儲存下來\n",
    "\n",
    "        # 將這些狀態值加總到總體狀態值中，並更新次數\n",
    "        for index, val in enumerate(distinct_node_list):\n",
    "            self.state_value[val] += distinct_state_value[index] \n",
    "            self.state_value_count[val] += 1        \n",
    "                \n",
    "    # 回傳目前的狀態值函數期望值(平均值)\n",
    "    def get_observation(self):\n",
    "        mean1 = np.full(NODE_COUNT, 0.0)\n",
    "        for i in range(NODE_COUNT):\n",
    "            if self.state_value_count[i] == 0: \n",
    "                mean1[i] = 0\n",
    "            else:\n",
    "                mean1[i] = self.state_value[i] / self.state_value_count[i]\n",
    "        return mean1"
   ]
  },
  {
   "cell_type": "code",
   "execution_count": 7,
   "metadata": {},
   "outputs": [],
   "source": [
    "# 代理人類別(Agent)，負責根據狀態值選擇最佳行動\n",
    "class Agent():\n",
    "    \n",
    "    # 初始化方法(目前沒做任何設定)\n",
    "    def __init__(self):\n",
    "        pass\n",
    "\n",
    "    # 檢查代理人在目前位置可以採取哪些合法行動\n",
    "    def check_possible_action(self, env):\n",
    "        # 取得所有基本方向行動\n",
    "        possible_actions = env.get_actions()\n",
    "\n",
    "        # 簡化程式碼，將目前位置儲存在變數中\n",
    "        pos = env.position\n",
    "\n",
    "        # 邊界條件：避免走出網格範圍\n",
    "        if pos < COLUMN_COUNT:                      # 最下方一列，不可往下\n",
    "            possible_actions.remove(DOWN)\n",
    "        if pos % COLUMN_COUNT == 0:                 # 最左邊一行，不可往左\n",
    "            possible_actions.remove(LEFT)\n",
    "        if pos >= NODE_COUNT - COLUMN_COUNT:        # 最上方一列，不可往上\n",
    "            possible_actions.remove(UP)\n",
    "        if pos % COLUMN_COUNT == COLUMN_COUNT - 1:  # 最右邊一行，不可往右\n",
    "            possible_actions.remove(RIGHT)\n",
    "\n",
    "        # 牆壁條件：避免撞牆\n",
    "        if pos - 1 in WALL_NODES and LEFT in possible_actions:\n",
    "            possible_actions.remove(LEFT)\n",
    "        if pos + 1 in WALL_NODES and RIGHT in possible_actions:\n",
    "            possible_actions.remove(RIGHT)\n",
    "        if pos + COLUMN_COUNT in WALL_NODES and UP in possible_actions:\n",
    "            possible_actions.remove(UP)\n",
    "        if pos - COLUMN_COUNT in WALL_NODES and DOWN in possible_actions:\n",
    "            possible_actions.remove(DOWN)\n",
    "\n",
    "        return possible_actions\n",
    "\n",
    "    # 選擇下一步行動\n",
    "    def action(self, env):\n",
    "        # 取得目前所有狀態的期望狀態值\n",
    "        state_value = env.get_observation()\n",
    "\n",
    "        max_value = -999       # 儲存目前找到的最大狀態值\n",
    "        next_action_list = []  # 儲存具有最大狀態值的所有行動\n",
    "        possible_actions = self.check_possible_action(env)\n",
    "\n",
    "        # 找出目前狀態可移動位置中，狀態值最大的行動\n",
    "        for i in possible_actions:\n",
    "            new_pos = env.update_position(i)\n",
    "            value = state_value[new_pos]\n",
    "\n",
    "            if value > max_value:\n",
    "                max_value = value\n",
    "                next_action_list = [i]\n",
    "            elif value == max_value:\n",
    "                next_action_list.append(i)\n",
    "\n",
    "        # 根據最大值行動清單來決定下一步\n",
    "        if len(next_action_list) == 0:\n",
    "            # 如果沒有最大值，隨機選擇行動\n",
    "            next_action = random.choice(possible_actions)\n",
    "        else:\n",
    "            # 多個最佳行動，隨機抽選其中之一\n",
    "            next_action = random.choice(next_action_list)\n",
    "\n",
    "        new_position = env.update_position(next_action)\n",
    "\n",
    "        # 防止陷入循環：檢查是否在來回走相同路線\n",
    "        while (\n",
    "            len(possible_actions) > 1 and \n",
    "            len(env.trajectory) >= 4 and\n",
    "            new_position == env.trajectory[-2] and \n",
    "            new_position == env.trajectory[-4]\n",
    "        ):\n",
    "            # 移除會導致循環的行動，重新抽選其他方向\n",
    "            possible_actions.remove(next_action)\n",
    "            next_action = random.choice(possible_actions)\n",
    "            new_position = env.update_position(next_action)\n",
    "\n",
    "        return next_action"
   ]
  },
  {
   "cell_type": "code",
   "execution_count": 8,
   "metadata": {
    "scrolled": false
   },
   "outputs": [
    {
     "name": "stdout",
     "output_type": "stream",
     "text": [
      "trajectory 0 : [0, 1, 0, 4, 8, 4, 0, 1, 0, 1, 2, 6, 10, 9, 8, 9, 8, 4, 0, 4, 8, 9, 8, 4, 0, 4, 8, 9, 8, 9, 10, 11]\n",
      "trajectory 1 : [0, 4, 8, 9, 10, 11]\n",
      "trajectory 2 : [0, 4, 8, 9, 10, 11]\n",
      "trajectory 3 : [0, 4, 8, 9, 10, 11]\n",
      "trajectory 4 : [0, 4, 8, 9, 10, 11]\n",
      "trajectory 5 : [0, 4, 8, 9, 10, 11]\n",
      "trajectory 6 : [0, 4, 8, 9, 10, 11]\n",
      "trajectory 7 : [0, 4, 8, 9, 10, 11]\n",
      "trajectory 8 : [0, 4, 8, 9, 10, 11]\n",
      "trajectory 9 : [0, 4, 8, 9, 10, 11]\n",
      "trajectory 10 : [0, 4, 8, 9, 10, 11]\n",
      "trajectory 11 : [0, 4, 8, 9, 10, 11]\n",
      "trajectory 12 : [0, 4, 8, 9, 10, 11]\n",
      "trajectory 13 : [0, 4, 8, 9, 10, 11]\n",
      "trajectory 14 : [0, 4, 8, 9, 10, 11]\n",
      "trajectory 15 : [0, 4, 8, 9, 10, 11]\n",
      "trajectory 16 : [0, 4, 8, 9, 10, 11]\n",
      "trajectory 17 : [0, 4, 8, 9, 10, 11]\n",
      "trajectory 18 : [0, 4, 8, 9, 10, 11]\n",
      "trajectory 19 : [0, 4, 8, 9, 10, 11]\n",
      "trajectory 20 : [0, 4, 8, 9, 10, 11]\n",
      "trajectory 21 : [0, 4, 8, 9, 10, 11]\n",
      "trajectory 22 : [0, 4, 8, 9, 10, 11]\n",
      "trajectory 23 : [0, 4, 8, 9, 10, 11]\n",
      "trajectory 24 : [0, 4, 8, 9, 10, 11]\n",
      "trajectory 25 : [0, 4, 8, 9, 10, 11]\n",
      "trajectory 26 : [0, 4, 8, 9, 10, 11]\n",
      "trajectory 27 : [0, 4, 8, 9, 10, 11]\n",
      "trajectory 28 : [0, 4, 8, 9, 10, 11]\n",
      "trajectory 29 : [0, 4, 8, 9, 10, 11]\n",
      "trajectory 30 : [0, 4, 8, 9, 10, 11]\n",
      "trajectory 31 : [0, 4, 8, 9, 10, 11]\n",
      "trajectory 32 : [0, 4, 8, 9, 10, 11]\n",
      "trajectory 33 : [0, 4, 8, 9, 10, 11]\n",
      "trajectory 34 : [0, 4, 8, 9, 10, 11]\n",
      "trajectory 35 : [0, 4, 8, 9, 10, 11]\n",
      "trajectory 36 : [0, 4, 8, 9, 10, 11]\n",
      "trajectory 37 : [0, 4, 8, 9, 10, 11]\n",
      "trajectory 38 : [0, 4, 8, 9, 10, 11]\n",
      "trajectory 39 : [0, 4, 8, 9, 10, 11]\n",
      "trajectory 40 : [0, 4, 8, 9, 10, 11]\n",
      "累計報酬: [-0.2, 0.84, 0.84, 0.84, 0.84, 0.84, 0.84, 0.84, 0.84, 0.84, 0.84, 0.84, 0.84, 0.84, 0.84, 0.84, 0.84, 0.84, 0.84, 0.84, 0.84, 0.84, 0.84, 0.84, 0.84, 0.84, 0.84, 0.84, 0.84, 0.84, 0.84, 0.84, 0.84, 0.84, 0.84, 0.84, 0.84, 0.84, 0.84, 0.84, 0.84]\n"
     ]
    }
   ],
   "source": [
    "# 建立實驗：初始化環境與代理人\n",
    "env = Environment()\n",
    "agent = Agent()\n",
    "\n",
    "# 用來儲存每一回合的總報酬(total reward)\n",
    "total_reward_list = []\n",
    "\n",
    "# 控制變數\n",
    "no = 0         # 總共執行的回合數\n",
    "done_no = 0    # 成功結束(到達終點或陷阱)的回合數\n",
    "\n",
    "# 最多執行100回合，若已成功完成41回合也會提前結束\n",
    "while no < 100 and done_no < 41:\n",
    "    no += 1\n",
    "    env.reset()           # 每回合開始前重置環境\n",
    "    total_reward = 0      # 重置該回合的報酬\n",
    "    action_count = 0      # 行動步數累計\n",
    "\n",
    "    # 回合未結束就持續行動\n",
    "    while not env.is_done():\n",
    "        # 代理人選擇行動\n",
    "        action = agent.action(env)\n",
    "        action_count += 1\n",
    "\n",
    "        # 執行行動並更新環境\n",
    "        state, reward = env.step(action)\n",
    "\n",
    "        # 累加報酬\n",
    "        total_reward += reward\n",
    "\n",
    "        # 防止無窮迴圈：如果行動超過100步仍未結束，強制結束回合\n",
    "        if action_count > 100:\n",
    "            env.position = 0  # 重置位置(避免無限循環)\n",
    "            break\n",
    "\n",
    "    # 印出本回合的行動軌跡\n",
    "    print('trajectory', done_no, ':', env.trajectory)\n",
    "\n",
    "    # 若成功走完(即沒超過100步)，才更新狀態值函數\n",
    "    if action_count <= 100:\n",
    "        env.update_state_value(total_reward)              # 更新狀態值\n",
    "        total_reward_list.append(round(total_reward, 2))  # 記錄總報酬\n",
    "        done_no += 1\n",
    "\n",
    "    # 註解的程式碼可用於顯示狀態值函數的視覺化\n",
    "    # state_value = np.around(env.get_observation().reshape(ROW_COUNT, COLUMN_COUNT), 2)\n",
    "    # print(f\"state value:\\n{np.flip(state_value, axis = 0)}\")  # 翻轉列，符合圖片顯示方向\n",
    "\n",
    "# 顯示所有回合的總報酬(最多41筆)\n",
    "print(f\"累計報酬: {total_reward_list}\")"
   ]
  },
  {
   "cell_type": "code",
   "execution_count": 9,
   "metadata": {
    "scrolled": false
   },
   "outputs": [
    {
     "data": {
      "text/plain": [
       "[<matplotlib.lines.Line2D at 0x2607a99a780>]"
      ]
     },
     "execution_count": 9,
     "metadata": {},
     "output_type": "execute_result"
    },
    {
     "data": {
      "image/png": "[encoded data removed]",
      "text/plain": [
       "<Figure size 1000x600 with 1 Axes>"
      ]
     },
     "metadata": {},
     "output_type": "display_data"
    }
   ],
   "source": [
    "# 匯入繪圖套件(matplotlib)\n",
    "import matplotlib.pyplot as plt\n",
    "\n",
    "# 建立一個10x6吋大小的畫布\n",
    "plt.figure(figsize = (10, 6))\n",
    "\n",
    "# 繪製累計報酬列表的折線圖\n",
    "plt.plot(total_reward_list)"
   ]
  },
  {
   "cell_type": "code",
   "execution_count": 10,
   "metadata": {},
   "outputs": [
    {
     "data": {
      "text/plain": [
       "array([ 0.54926829, -1.44      , -1.08      ,  0.        ,  0.59121951,\n",
       "        0.        , -1.04      ,  0.        ,  0.63121951,  0.67902439,\n",
       "        0.71707317,  0.77463415])"
      ]
     },
     "execution_count": 10,
     "metadata": {},
     "output_type": "execute_result"
    }
   ],
   "source": [
    "# 取得目前環境中各節點的平均狀態值(state value)陣列\n",
    "env.get_observation()"
   ]
  }
 ],
 "metadata": {
  "kernelspec": {
   "display_name": "base",
   "language": "python",
   "name": "python3"
  },
  "language_info": {
   "codemirror_mode": {
    "name": "ipython",
    "version": 3
   },
   "file_extension": ".py",
   "mimetype": "text/x-python",
   "name": "python",
   "nbconvert_exporter": "python",
   "pygments_lexer": "ipython3",
   "version": "3.12.7"
  }
 },
 "nbformat": 4,
 "nbformat_minor": 4
}
