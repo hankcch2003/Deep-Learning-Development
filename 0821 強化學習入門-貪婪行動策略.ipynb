{
 "cells": [
  {
   "cell_type": "code",
   "execution_count": 1,
   "metadata": {},
   "outputs": [
    {
     "data": {
      "text/plain": [
       "'3.12.7 | packaged by Anaconda, Inc. | (main, Oct  4 2024, 13:17:27) [MSC v.1929 64 bit (AMD64)]'"
      ]
     },
     "execution_count": 1,
     "metadata": {},
     "output_type": "execute_result"
    }
   ],
   "source": [
    "# 匯入sys模組，這個模組提供與Python解譯器和系統相關的功能\n",
    "import sys\n",
    "\n",
    "# 取得目前使用的Python版本(包含版本號和編譯資訊等)\n",
    "sys.version"
   ]
  },
  {
   "cell_type": "code",
   "execution_count": 2,
   "metadata": {},
   "outputs": [],
   "source": [
    "# 載入相關套件\n",
    "import numpy as np\n",
    "import random"
   ]
  },
  {
   "cell_type": "code",
   "execution_count": 3,
   "metadata": {},
   "outputs": [],
   "source": [
    "# 參數設定\n",
    "NODE_COUNT = 15        # 節點數\n",
    "NORMAL_REWARD = -0.02  # 每走一步扣分0.02"
   ]
  },
  {
   "cell_type": "code",
   "execution_count": 4,
   "metadata": {},
   "outputs": [],
   "source": [
    "# 環境類別\n",
    "class Environment():\n",
    "\n",
    "    # 初始化\n",
    "    def __init__(self):\n",
    "\n",
    "        # 儲存狀態值函數(State Value Function)\n",
    "        # 索引值[0]不用，從1開始\n",
    "        self.state_value = np.full((NODE_COUNT + 1), 0.0)\n",
    "\n",
    "        # 記錄每個狀態被更新的次數\n",
    "        # 索引值[0]不用，從1開始\n",
    "        self.state_value_count = np.full((NODE_COUNT + 1), 0)\n",
    "        \n",
    "    # 重置遊戲\n",
    "    def reset(self):\n",
    "        # 玩家一開始站在中間位置\n",
    "        self.poistion = int((1 + NODE_COUNT) / 2)\n",
    "        # 記錄玩家行動軌跡\n",
    "        self.trajectory = [self.poistion]\n",
    "\n",
    "    # 取得所有可能的狀態\n",
    "    def get_states(self):\n",
    "        # 狀態空間(State Space) = 1到NODE_COUNT\n",
    "        return [i for i in range(1, NODE_COUNT+1)]\n",
    "\n",
    "    # 取得行動空間\n",
    "    def get_actions(self):  \n",
    "        # 行動空間(Action Space) = 向左(-1)或向右(+1)\n",
    "        return [-1, 1]\n",
    "\n",
    "    # 判斷遊戲是否結束\n",
    "    def is_done(self):\n",
    "        # 若玩家到達左右端點，回合結束\n",
    "        return self.poistion == 1 or self.poistion == NODE_COUNT\n",
    "    \n",
    "    # 執行一步動作\n",
    "    def step(self, action):\n",
    "        # 如果遊戲已結束，不能再走\n",
    "        if self.is_done():\n",
    "            raise Exception(\"Game over\")\n",
    "\n",
    "        # 更新玩家位置\n",
    "        self.poistion += action\n",
    "\n",
    "        # 紀錄行動軌跡\n",
    "        self.trajectory.append(self.poistion)        \n",
    "        \n",
    "        # 判斷獎勵\n",
    "        if self.poistion == 1:\n",
    "            reward = -1             # 到達左端負獎勵\n",
    "        elif self.poistion == NODE_COUNT:\n",
    "            reward = 1              # 到達右端正獎勵\n",
    "        else:    \n",
    "            reward = NORMAL_REWARD  # 中間位置一般獎勵\n",
    "        return self.poistion, reward\n",
    "\n",
    "    # 更新狀態值函數\n",
    "    def update_state_value(self, final_value):\n",
    "        # 倒推更新，每個走過的節點加上最終獎勵\n",
    "        # 缺點：同一節點走過多次，分數可能被重複計算\n",
    "\n",
    "        for i in range(len(self.trajectory)-1, -1, -1):\n",
    "            final_value += NORMAL_REWARD\n",
    "            self.state_value[self.trajectory[i]] += final_value\n",
    "            self.state_value_count[self.trajectory[i]] += 1\n",
    "                \n",
    "    # 取得狀態值函數的期望值\n",
    "    def get_observation(self):\n",
    "        mean1 = np.full((NODE_COUNT + 1), 0.0)\n",
    "        for i in range(1, NODE_COUNT + 1):\n",
    "            if self.state_value_count[i] == 0: \n",
    "                mean1[i] = 0  # 若未更新過，期望值為0\n",
    "            else:\n",
    "                # 狀態值函數平均值 = 總分 / 更新次數\n",
    "                mean1[i] = self.state_value[i] / self.state_value_count[i]\n",
    "        return mean1"
   ]
  },
  {
   "cell_type": "code",
   "execution_count": 5,
   "metadata": {},
   "outputs": [],
   "source": [
    "# 代理人類別(Agent)\n",
    "class Agent():\n",
    "\n",
    "    # 初始化\n",
    "    def __init__(self):\n",
    "        # 目前不需要額外變數\n",
    "        pass\n",
    "        \n",
    "    # 根據環境選擇行動\n",
    "    def action(self, env):\n",
    "        # 取得當前環境的狀態值函數期望值(各節點的估計價值)\n",
    "        state_value = env.get_observation()\n",
    "        \n",
    "        # 以左/右節點的狀態值函數大小來決定行動。如果左邊的價值比右邊大，則向左走\n",
    "        if state_value[env.poistion - 1] > state_value[env.poistion + 1]: \n",
    "            next_action = -1\n",
    "\n",
    "        # 如果右邊的價值比左邊大，則向右走\n",
    "        if state_value[env.poistion - 1] < state_value[env.poistion + 1]: \n",
    "            next_action = 1\n",
    "\n",
    "        # 如果左右節點的價值相等，則隨機選擇向左或向右\n",
    "        else:  \n",
    "            next_action = random.choice(env.get_actions())\n",
    "        \n",
    "        # 回傳選擇的行動\n",
    "        return next_action"
   ]
  },
  {
   "cell_type": "code",
   "execution_count": 6,
   "metadata": {
    "scrolled": false
   },
   "outputs": [
    {
     "name": "stdout",
     "output_type": "stream",
     "text": [
      "trajectory 0: [8, 9, 10, 11, 12, 11, 10, 9, 10, 11, 10, 9, 10, 9, 10, 9, 10, 9, 10, 9, 10, 9, 10, 9, 8, 7, 6, 5, 6, 5, 4, 5, 6, 7, 8, 9, 10, 11, 10, 9, 10, 11, 12, 11, 12, 13, 14, 13, 12, 13, 14, 15]\n",
      "trajectory 1: [8, 9, 10, 11, 12, 13, 14, 15]\n",
      "trajectory 2: [8, 9, 10, 11, 12, 13, 14, 15]\n",
      "trajectory 3: [8, 9, 10, 11, 12, 13, 14, 15]\n",
      "trajectory 4: [8, 9, 10, 11, 12, 13, 14, 15]\n",
      "trajectory 5: [8, 9, 10, 11, 12, 13, 14, 15]\n",
      "trajectory 6: [8, 9, 10, 11, 12, 13, 14, 15]\n",
      "trajectory 7: [8, 9, 10, 11, 12, 13, 14, 15]\n",
      "trajectory 8: [8, 9, 10, 11, 12, 13, 14, 15]\n",
      "trajectory 9: [8, 9, 10, 11, 12, 13, 14, 15]\n",
      "累計報酬: [-0.0, 0.88, 0.88, 0.88, 0.88, 0.88, 0.88, 0.88, 0.88, 0.88]\n"
     ]
    }
   ],
   "source": [
    "# 建立實驗，初始化環境(Environment)與代理人(Agent)物件\n",
    "env = Environment()\n",
    "agent = Agent()\n",
    "\n",
    "# 儲存每次實驗的累計報酬\n",
    "total_reward_list = []\n",
    "\n",
    "# 執行10次實驗\n",
    "for i in range(10):\n",
    "    env.reset()       # 重置環境(將玩家位置回到中間，清空軌跡)\n",
    "    total_reward = 0  # 初始化累計報酬\n",
    "    action_count = 0  # 計算該回合採取的行動次數\n",
    "\n",
    "    # 當遊戲未結束時持續進行\n",
    "    while not env.is_done():\n",
    "        # 代理人選擇行動(根據狀態值函數)\n",
    "        action = agent.action(env)\n",
    "        action_count += 1\n",
    "        \n",
    "        # 更新環境，取得新的狀態與該步獎勵\n",
    "        state, reward = env.step(action)\n",
    "\n",
    "        # 將獎勵累加到總報酬\n",
    "        total_reward += reward\n",
    "        \n",
    "        # 防止無限循環，若行動次數超過100，強制結束並重置位置\n",
    "        if action_count > 100:\n",
    "            env.poistion = int((1 + NODE_COUNT) / 2)\n",
    "            break\n",
    "    \n",
    "    # 顯示該回合的行動軌跡\n",
    "    print(f'trajectory {i}: {env.trajectory}')\n",
    "    \n",
    "    # 只有在未超過100步才更新狀態值函數，以免過度降低循環節點的價值\n",
    "    if action_count <= 100:\n",
    "        env.update_state_value(total_reward)\n",
    "\n",
    "    # 將該回合的累計報酬加入列表\n",
    "    total_reward_list.append(round(total_reward, 2))\n",
    "    \n",
    "# 顯示所有回合的累計報酬\n",
    "print(f\"累計報酬: {total_reward_list}\")"
   ]
  },
  {
   "cell_type": "code",
   "execution_count": 7,
   "metadata": {
    "scrolled": false
   },
   "outputs": [
    {
     "data": {
      "text/plain": [
       "[<matplotlib.lines.Line2D at 0x2805e87e3f0>]"
      ]
     },
     "execution_count": 7,
     "metadata": {},
     "output_type": "execute_result"
    },
    {
     "data": {
      "image/png": "[encoded data removed]",
      "text/plain": [
       "<Figure size 1000x600 with 1 Axes>"
      ]
     },
     "metadata": {},
     "output_type": "display_data"
    }
   ],
   "source": [
    "# 匯入繪圖套件matplotlib\n",
    "import matplotlib.pyplot as plt\n",
    "\n",
    "# 建立一個畫布，設定大小為10x6吋\n",
    "plt.figure(figsize=(10,6))\n",
    "\n",
    "# 繪製累計報酬(total_reward_list)隨回合變化的折線圖\n",
    "plt.plot(total_reward_list)"
   ]
  },
  {
   "cell_type": "code",
   "execution_count": 8,
   "metadata": {},
   "outputs": [
    {
     "data": {
      "text/plain": [
       "array([ 0.        ,  0.        ,  0.        , -0.44      , -0.46      ,\n",
       "       -0.46666667, -0.46      ,  0.37666667, -0.038     , -0.08363636,\n",
       "        0.236     ,  0.44615385,  0.59      ,  0.67272727,  0.772     ])"
      ]
     },
     "execution_count": 8,
     "metadata": {},
     "output_type": "execute_result"
    }
   ],
   "source": [
    "# 取得環境中所有節點的狀態期望值(排除索引0，因為索引0沒有使用)\n",
    "env.get_observation()[1:]"
   ]
  }
 ],
 "metadata": {
  "kernelspec": {
   "display_name": "base",
   "language": "python",
   "name": "python3"
  },
  "language_info": {
   "codemirror_mode": {
    "name": "ipython",
    "version": 3
   },
   "file_extension": ".py",
   "mimetype": "text/x-python",
   "name": "python",
   "nbconvert_exporter": "python",
   "pygments_lexer": "ipython3",
   "version": "3.12.7"
  }
 },
 "nbformat": 4,
 "nbformat_minor": 4
}
